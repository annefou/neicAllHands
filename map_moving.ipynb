{
 "cells": [
  {
   "cell_type": "markdown",
   "metadata": {
    "extensions": {
     "jupyter_dashboards": {
      "version": 1,
      "views": {
       "grid_default": {},
       "report_default": {}
      }
     }
    }
   },
   "source": [
    "# Detecting wild reindeers in CWD contaminated area"
   ]
  },
  {
   "cell_type": "code",
   "execution_count": 1,
   "metadata": {
    "extensions": {
     "jupyter_dashboards": {
      "version": 1,
      "views": {
       "grid_default": {},
       "report_default": {}
      }
     }
    }
   },
   "outputs": [],
   "source": [
    "from ipyleaflet import Marker, Icon, Map, Polygon, GeoJSON, LayerGroup, DrawControl, Popup\n",
    "import json\n",
    "import os\n",
    "import requests\n",
    "import numpy as np\n",
    "from random import randrange, uniform\n",
    "from ipywidgets import interact, HTML\n",
    "from shapely.geometry import shape, Point\n",
    "\n",
    "n=15\n",
    "center = (60.88, 7.58)\n",
    "lat_start = 60.68\n",
    "lon_start = 7.58\n",
    "scale = .05\n",
    "\n",
    "\n",
    "m = Map(center=center, zoom=8)\n",
    "mark = Marker(location=[lat_start, lon_start], rotation_angle=0, rotation_origin='22px 94px') \n",
    "group = LayerGroup(layers=(mark,))\n",
    "m.add_layer(group)"
   ]
  },
  {
   "cell_type": "code",
   "execution_count": 2,
   "metadata": {
    "extensions": {
     "jupyter_dashboards": {
      "version": 1,
      "views": {
       "grid_default": {},
       "report_default": {}
      }
     }
    }
   },
   "outputs": [],
   "source": [
    "with open('zone_1.json') as f:\n",
    "    zone1_data = json.load(f)\n",
    "with open('zone_2.json') as f:\n",
    "    zone2_data = json.load(f)\n",
    "layer_zone1 = GeoJSON(data=zone1_data)\n",
    "m.add_layer(layer_zone1)\n",
    "layer_zone2 = GeoJSON(data=zone2_data)\n",
    "m.add_layer(layer_zone2)    "
   ]
  },
  {
   "cell_type": "code",
   "execution_count": 3,
   "metadata": {
    "extensions": {
     "jupyter_dashboards": {
      "version": 1,
      "views": {
       "grid_default": {},
       "report_default": {}
      }
     }
    }
   },
   "outputs": [
    {
     "data": {
      "application/vnd.jupyter.widget-view+json": {
       "model_id": "a0575afd5e044de393cbcb646cfd4980",
       "version_major": 2,
       "version_minor": 0
      },
      "text/plain": [
       "interactive(children=(FloatSlider(value=0.0, description='time', max=1.0), Output()), _dom_classes=('widget-in…"
      ]
     },
     "metadata": {},
     "output_type": "display_data"
    },
    {
     "data": {
      "application/vnd.jupyter.widget-view+json": {
       "model_id": "9a8bc38ddf3d40468b98fc155606a666",
       "version_major": 2,
       "version_minor": 0
      },
      "text/plain": [
       "Map(basemap={'url': 'https://{s}.tile.openstreetmap.org/{z}/{x}/{y}.png', 'max_zoom': 19, 'attribution': 'Map …"
      ]
     },
     "metadata": {},
     "output_type": "display_data"
    }
   ],
   "source": [
    "ninside=0\n",
    "def coords(time):\n",
    "#    try:\n",
    "    try:\n",
    "        group.clear_layers()\n",
    "    except:\n",
    "        pass\n",
    "        \n",
    "\n",
    "    i=n\n",
    "    ninside=0\n",
    "    while i > 0:\n",
    "\n",
    "\n",
    "        la = lat_start + uniform(-scale, scale) + uniform(-0.06,0.06)\n",
    "        lo = lon_start + uniform(-scale, scale)+ uniform(-0.06,0.06)\n",
    "        point = Point(lo,la)\n",
    "        mark = Marker(location=[la, lo], rotation_angle=0, rotation_origin='22px 94px') \n",
    "        group.add_layer(mark)     \n",
    "        \n",
    "        outside=True\n",
    "        for s in zone1_data['features']:\n",
    "            polygon = shape(s['geometry'])\n",
    "            \n",
    "            if point.within(polygon):\n",
    "                print(\"INSIDE: Raise alarm\")\n",
    "                outside=False\n",
    "                ninside = ninside+1\n",
    "        \n",
    "        i -=1\n",
    "\n",
    "    if ninside>0:\n",
    "        alarm = HTML()\n",
    "        alarm.value = \"ALARM: \" + str(ninside) + \" reindeers in the CONTAMINATED ZONE - SHOOT IT!!!\"\n",
    "        print(\"ALARM\")\n",
    "\n",
    "    # Popup with a given location on the map:\n",
    "        popup = Popup(\n",
    "            location=(60.77, 7.65),\n",
    "            child=alarm,\n",
    "            close_button=True,\n",
    "            auto_close=False,\n",
    "            close_on_escape_key=False\n",
    "        )\n",
    "        m.add_layer(popup)\n",
    "    \n",
    "\n",
    "#coords(0.0)\n",
    "\n",
    "\n",
    "with open('nordfjella.json', 'r') as f:\n",
    "  data = json.load(f)\n",
    "geo_json = GeoJSON(data=data, style = {'color': 'green', 'opacity':1, 'weight':1.9, 'dashArray':'9', 'fillOpacity':0.1})\n",
    "m.add_layer(geo_json)\n",
    "\n",
    "polygon = Polygon(\n",
    "    locations=[(60.68753821944088,7.752502404083099), (60.75302523120072,7.809503970433292), \n",
    "               (60.80428536387097,7.559768404156764), (60.73925825494969,7.509379087922763)],\n",
    "    color=\"red\",\n",
    "    fill_color=\"red\"\n",
    ")\n",
    "\n",
    "m.add_layer(polygon);\n",
    "\n",
    "\n",
    "interact(coords, time=0.0);\n",
    "m"
   ]
  },
  {
   "cell_type": "code",
   "execution_count": 4,
   "metadata": {
    "extensions": {
     "jupyter_dashboards": {
      "version": 1,
      "views": {
       "grid_default": {},
       "report_default": {}
      }
     }
    }
   },
   "outputs": [],
   "source": [
    "#Add a marker when you see a reindeer \n",
    "dc = DrawControl(circle={'shapeOptions': {'color': 'magenta'}}, circleMarker={}, polyline={}, polygon={})\n",
    "\n",
    "def handle_draw(self, action, geo_json):\n",
    "    print(action)\n",
    "    print(geo_json)\n",
    "\n",
    "dc.on_draw(handle_draw)\n",
    "m.add_control(dc)"
   ]
  },
  {
   "cell_type": "code",
   "execution_count": 5,
   "metadata": {
    "extensions": {
     "jupyter_dashboards": {
      "version": 1,
      "views": {
       "grid_default": {},
       "report_default": {}
      }
     }
    }
   },
   "outputs": [],
   "source": [
    "legend = HTML()\n",
    "legend.value = \"Contaminated zone\"\n",
    "\n",
    "    # Popup with a given location on the map: \n",
    "popup = Popup(\n",
    "        location=(60.8192, 8.2856),\n",
    "        child=legend,\n",
    "        close_button=False,\n",
    "        auto_close=False,\n",
    "        close_on_escape_key=False\n",
    "    )\n",
    "m.add_layer(popup)"
   ]
  },
  {
   "cell_type": "code",
   "execution_count": null,
   "metadata": {
    "extensions": {
     "jupyter_dashboards": {
      "version": 1,
      "views": {
       "grid_default": {},
       "report_default": {}
      }
     }
    }
   },
   "outputs": [],
   "source": []
  },
  {
   "cell_type": "code",
   "execution_count": null,
   "metadata": {
    "extensions": {
     "jupyter_dashboards": {
      "version": 1,
      "views": {
       "grid_default": {},
       "report_default": {}
      }
     }
    }
   },
   "outputs": [],
   "source": []
  }
 ],
 "metadata": {
  "extensions": {
   "jupyter_dashboards": {
    "activeView": "grid_default",
    "version": 1,
    "views": {
     "grid_default": {
      "cellMargin": 10,
      "defaultCellHeight": 20,
      "maxColumns": 12,
      "name": "grid",
      "type": "grid"
     },
     "report_default": {
      "name": "report",
      "type": "report"
     }
    }
   }
  },
  "kernelspec": {
   "display_name": "Python 3",
   "language": "python",
   "name": "python3"
  },
  "language_info": {
   "codemirror_mode": {
    "name": "ipython",
    "version": 3
   },
   "file_extension": ".py",
   "mimetype": "text/x-python",
   "name": "python",
   "nbconvert_exporter": "python",
   "pygments_lexer": "ipython3",
   "version": "3.6.8"
  }
 },
 "nbformat": 4,
 "nbformat_minor": 2
}
