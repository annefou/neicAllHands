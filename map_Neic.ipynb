{
 "cells": [
  {
   "cell_type": "code",
   "execution_count": 1,
   "metadata": {},
   "outputs": [],
   "source": [
    "import ipyleaflet as ipyl\n",
    "import ipywidgets as ipyw\n",
    "import json\n",
    "import numpy as np\n",
    "import pandas as pd\n",
    "from shapely.geometry import shape, Point\n",
    "from ipywidgets import jslink, IntSlider\n",
    "\n",
    "from traitlets import link"
   ]
  },
  {
   "cell_type": "code",
   "execution_count": 2,
   "metadata": {},
   "outputs": [],
   "source": [
    "# generate Reindeer positions\n",
    "nvalues = 10\n",
    "lons = 7.48 + np.random.rand(nvalues,1)\n",
    "lons\n",
    "\n",
    "lats = 60.58 + np.random.rand(nvalues,1)\n",
    "pd.DataFrame(np.concatenate((lons,lats),axis=1),  columns=[\"lon\", \"lat\"]).to_csv(\"reindeers.csv\", index=False)"
   ]
  },
  {
   "cell_type": "code",
   "execution_count": 3,
   "metadata": {},
   "outputs": [
    {
     "data": {
      "text/html": [
       "<div>\n",
       "<style scoped>\n",
       "    .dataframe tbody tr th:only-of-type {\n",
       "        vertical-align: middle;\n",
       "    }\n",
       "\n",
       "    .dataframe tbody tr th {\n",
       "        vertical-align: top;\n",
       "    }\n",
       "\n",
       "    .dataframe thead th {\n",
       "        text-align: right;\n",
       "    }\n",
       "</style>\n",
       "<table border=\"1\" class=\"dataframe\">\n",
       "  <thead>\n",
       "    <tr style=\"text-align: right;\">\n",
       "      <th></th>\n",
       "      <th>lon</th>\n",
       "      <th>lat</th>\n",
       "    </tr>\n",
       "  </thead>\n",
       "  <tbody>\n",
       "    <tr>\n",
       "      <th>0</th>\n",
       "      <td>8.462060</td>\n",
       "      <td>60.896931</td>\n",
       "    </tr>\n",
       "    <tr>\n",
       "      <th>1</th>\n",
       "      <td>8.212547</td>\n",
       "      <td>60.661302</td>\n",
       "    </tr>\n",
       "    <tr>\n",
       "      <th>2</th>\n",
       "      <td>8.242927</td>\n",
       "      <td>60.926272</td>\n",
       "    </tr>\n",
       "    <tr>\n",
       "      <th>3</th>\n",
       "      <td>8.148322</td>\n",
       "      <td>61.132563</td>\n",
       "    </tr>\n",
       "    <tr>\n",
       "      <th>4</th>\n",
       "      <td>7.679371</td>\n",
       "      <td>61.256813</td>\n",
       "    </tr>\n",
       "    <tr>\n",
       "      <th>5</th>\n",
       "      <td>7.925903</td>\n",
       "      <td>60.979938</td>\n",
       "    </tr>\n",
       "    <tr>\n",
       "      <th>6</th>\n",
       "      <td>8.057683</td>\n",
       "      <td>61.150842</td>\n",
       "    </tr>\n",
       "    <tr>\n",
       "      <th>7</th>\n",
       "      <td>7.486750</td>\n",
       "      <td>61.444976</td>\n",
       "    </tr>\n",
       "    <tr>\n",
       "      <th>8</th>\n",
       "      <td>8.431505</td>\n",
       "      <td>61.082227</td>\n",
       "    </tr>\n",
       "    <tr>\n",
       "      <th>9</th>\n",
       "      <td>7.800801</td>\n",
       "      <td>61.356956</td>\n",
       "    </tr>\n",
       "  </tbody>\n",
       "</table>\n",
       "</div>"
      ],
      "text/plain": [
       "        lon        lat\n",
       "0  8.462060  60.896931\n",
       "1  8.212547  60.661302\n",
       "2  8.242927  60.926272\n",
       "3  8.148322  61.132563\n",
       "4  7.679371  61.256813\n",
       "5  7.925903  60.979938\n",
       "6  8.057683  61.150842\n",
       "7  7.486750  61.444976\n",
       "8  8.431505  61.082227\n",
       "9  7.800801  61.356956"
      ]
     },
     "execution_count": 3,
     "metadata": {},
     "output_type": "execute_result"
    }
   ],
   "source": [
    "# Read reindeer positions\n",
    "reindeers = pd.read_csv(\"reindeers.csv\")\n",
    "reindeers"
   ]
  },
  {
   "cell_type": "code",
   "execution_count": 4,
   "metadata": {},
   "outputs": [],
   "source": [
    "lon, lat = 7.48, 60.58\n",
    "zoom_start = 6\n",
    "m = ipyl.Map(\n",
    "#    layers=(basemap_to_tiles(basemaps.OpenTopoMap), ),\n",
    "    center=(lat, lon)\n",
    ")\n",
    "zoom_slider = IntSlider(description='Zoom', min=3, max=17, value=zoom_start)\n",
    "jslink((zoom_slider, 'value'), (m, 'zoom'))"
   ]
  },
  {
   "cell_type": "code",
   "execution_count": 5,
   "metadata": {},
   "outputs": [],
   "source": [
    "with open('/home/deeplearning/detect_cwd/nordfjella.json') as f:\n",
    "    geo_json_data = json.load(f)"
   ]
  },
  {
   "cell_type": "code",
   "execution_count": 6,
   "metadata": {},
   "outputs": [],
   "source": [
    "layer = ipyl.GeoJSON(data=geo_json_data)\n",
    "m.add_layer(layer)"
   ]
  },
  {
   "cell_type": "code",
   "execution_count": 7,
   "metadata": {},
   "outputs": [
    {
     "name": "stdout",
     "output_type": "stream",
     "text": [
      "OUTSIDE\n",
      "INSIDE: Raise alarm\n",
      "OUTSIDE\n",
      "OUTSIDE\n",
      "OUTSIDE\n",
      "INSIDE: Raise alarm\n",
      "OUTSIDE\n",
      "OUTSIDE\n",
      "OUTSIDE\n",
      "OUTSIDE\n"
     ]
    }
   ],
   "source": [
    "\n",
    "# Black if healthy and red if CWD\n",
    "markers = ()\n",
    "for lon,lat in zip(reindeers['lon'],reindeers['lat']):\n",
    "    point = Point(lon,lat)\n",
    "    outside=True\n",
    "    for s in geo_json_data['features']:\n",
    "        polygon = shape(s['geometry'])\n",
    "        if point.within(polygon):\n",
    "            print(\"INSIDE: Raise alarm\")\n",
    "            outside=False\n",
    "            \n",
    "    if (outside):\n",
    "        print(\"OUTSIDE\")  \n",
    "        markers= markers + (ipyl.Marker(location=(lat,lon)),)\n",
    "            \n",
    "marker_cluster = ipyl.MarkerCluster(\n",
    "        markers=markers\n",
    ")            \n",
    "m.add_layer(marker_cluster)"
   ]
  },
  {
   "cell_type": "code",
   "execution_count": 8,
   "metadata": {},
   "outputs": [
    {
     "data": {
      "application/vnd.jupyter.widget-view+json": {
       "model_id": "6586b8c8a5fe4bc79fe51b38a2cd428c",
       "version_major": 2,
       "version_minor": 0
      },
      "text/plain": [
       "Map(basemap={'url': 'https://{s}.tile.openstreetmap.org/{z}/{x}/{y}.png', 'max_zoom': 19, 'attribution': 'Map …"
      ]
     },
     "metadata": {},
     "output_type": "display_data"
    }
   ],
   "source": [
    "m"
   ]
  },
  {
   "cell_type": "code",
   "execution_count": 9,
   "metadata": {},
   "outputs": [
    {
     "data": {
      "application/vnd.jupyter.widget-view+json": {
       "model_id": "516f9228ac4045e6bc5f651d565f6cc3",
       "version_major": 2,
       "version_minor": 0
      },
      "text/plain": [
       "IntSlider(value=6, description='Zoom', max=17, min=3)"
      ]
     },
     "metadata": {},
     "output_type": "display_data"
    }
   ],
   "source": [
    "zoom_slider"
   ]
  },
  {
   "cell_type": "code",
   "execution_count": 10,
   "metadata": {},
   "outputs": [],
   "source": [
    "dc = ipyl.DrawControl()\n",
    "\n",
    "def handle_draw(self, action, geo_json):\n",
    "    print(action)\n",
    "    print(geo_json)\n",
    "\n",
    "dc.on_draw(handle_draw)\n",
    "m.add_control(dc)"
   ]
  },
  {
   "cell_type": "code",
   "execution_count": null,
   "metadata": {},
   "outputs": [],
   "source": []
  }
 ],
 "metadata": {
  "kernelspec": {
   "display_name": "Python 3",
   "language": "python",
   "name": "python3"
  },
  "language_info": {
   "codemirror_mode": {
    "name": "ipython",
    "version": 3
   },
   "file_extension": ".py",
   "mimetype": "text/x-python",
   "name": "python",
   "nbconvert_exporter": "python",
   "pygments_lexer": "ipython3",
   "version": "3.6.8"
  }
 },
 "nbformat": 4,
 "nbformat_minor": 2
}
