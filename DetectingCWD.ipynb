{
 "cells": [
  {
   "cell_type": "code",
   "execution_count": 10,
   "metadata": {},
   "outputs": [
    {
     "data": {
      "application/vnd.jupyter.widget-view+json": {
       "model_id": "f32efb54413b42e7999af62856f7e7c6",
       "version_major": 2,
       "version_minor": 0
      },
      "text/plain": [
       "TWFwKGJhc2VtYXA9eyd1cmwnOiAnaHR0cHM6Ly97c30udGlsZS5vcGVuc3RyZWV0bWFwLm9yZy97en0ve3h9L3t5fS5wbmcnLCAnbWF4X3pvb20nOiAxOSwgJ2F0dHJpYnV0aW9uJzogJ01hcCDigKY=\n"
      ]
     },
     "metadata": {},
     "output_type": "display_data"
    }
   ],
   "source": [
    "from ipyleaflet import Map, basemaps, basemap_to_tiles, Polygon\n",
    "\n",
    "m = Map(\n",
    "    layers=(basemap_to_tiles(basemaps.NASAGIBS.ModisTerraTrueColorCR, \"2017-04-08\"), ),\n",
    "    center=(55.204793, 360.121558),\n",
    "    zoom=9\n",
    ")\n",
    "\n",
    "m\n",
    "\n",
    "from ipyleaflet import Map, Polygon\n",
    "\n",
    "polygon = Polygon(\n",
    "    locations=[(42, -49), (43, -49), (43, -48)],\n",
    "    color=\"green\",\n",
    "    fill_color=\"green\"\n",
    ")\n",
    "\n",
    "m = Map(center=(42.5531, -48.6914), zoom=6)\n",
    "m.add_layer(polygon);\n",
    "\n",
    "m"
   ]
  },
  {
   "cell_type": "code",
   "execution_count": 40,
   "metadata": {
    "scrolled": true
   },
   "outputs": [
    {
     "data": {
      "application/vnd.jupyter.widget-view+json": {
       "model_id": "b804322d77354356a74ca0e1188a62ba",
       "version_major": 2,
       "version_minor": 0
      },
      "text/plain": [
       "TWFwKGJhc2VtYXA9eyd1cmwnOiAnaHR0cHM6Ly97c30udGlsZS5vcGVuc3RyZWV0bWFwLm9yZy97en0ve3h9L3t5fS5wbmcnLCAnbWF4X3pvb20nOiAxOSwgJ2F0dHJpYnV0aW9uJzogJ01hcCDigKY=\n"
      ]
     },
     "metadata": {},
     "output_type": "display_data"
    }
   ],
   "source": [
    "from ipyleaflet import Marker, Icon, Map, Polygon\n",
    "\n",
    "center = (61.4709192, 10.131046)\n",
    "\n",
    "pos1 = (61.4709192, 10.431046)\n",
    "pos2 = (61.4709192, 10.031046)\n",
    "\n",
    "m = Map(center=center, zoom=10)\n",
    "icon = Icon(icon_url='https://leafletjs.com/examples/custom-icons/leaf-green.png', icon_size=[10,10], icon_anchor=[11,94])\n",
    "mark1 = Marker(location=center, icon=icon, rotation_angle=0, rotation_origin='22px 94px')\n",
    "mark2 = Marker(location=pos1, icon=icon, rotation_angle=0, rotation_origin='22px 94px')\n",
    "mark3 = Marker(location=pos2, icon=icon, rotation_angle=0, rotation_origin='22px 94px')\n",
    "\n",
    "m.add_layer(mark1);\n",
    "m.add_layer(mark2);\n",
    "m.add_layer(mark3);\n",
    "\n",
    "\n",
    "polygon = Polygon(\n",
    "    locations=[(60.988706,9.5088533), (61.0944619,9.6040495), (62.4492231,10.11648)],\n",
    "    color=\"green\",\n",
    "    fill_color=\"green\"\n",
    ")\n",
    "\n",
    "\n",
    "m.add_layer(polygon);\n",
    "\n",
    "m\n",
    "\n"
   ]
  },
  {
   "cell_type": "code",
   "execution_count": null,
   "metadata": {},
   "outputs": [],
   "source": []
  },
  {
   "cell_type": "code",
   "execution_count": null,
   "metadata": {},
   "outputs": [],
   "source": []
  }
 ],
 "metadata": {
  "kernelspec": {
   "display_name": "Python 2",
   "language": "python",
   "name": "python2"
  },
  "language_info": {
   "codemirror_mode": {
    "name": "ipython",
    "version": 2
   },
   "file_extension": ".py",
   "mimetype": "text/x-python",
   "name": "python",
   "nbconvert_exporter": "python",
   "pygments_lexer": "ipython2",
   "version": "2.7.15"
  }
 },
 "nbformat": 4,
 "nbformat_minor": 2
}
