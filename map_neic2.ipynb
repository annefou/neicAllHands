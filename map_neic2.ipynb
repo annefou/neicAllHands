{
 "cells": [
  {
   "cell_type": "code",
   "execution_count": 13,
   "metadata": {},
   "outputs": [],
   "source": [
    "import ipyleaflet as ipyl\n",
    "import ipywidgets as ipyw\n",
    "import json\n",
    "import numpy as np\n",
    "import pandas as pd\n",
    "from shapely.geometry import shape, Point\n",
    "from ipywidgets import jslink, IntSlider, HTML\n",
    "\n",
    "from traitlets import link"
   ]
  },
  {
   "cell_type": "code",
   "execution_count": 3,
   "metadata": {},
   "outputs": [],
   "source": [
    "# generate Reindeer positions\n",
    "nvalues = 10\n",
    "lons = 7.48 + np.random.rand(nvalues,1)\n",
    "lons\n",
    "\n",
    "lats = 60.58 + np.random.rand(nvalues,1)\n",
    "pd.DataFrame(np.concatenate((lons,lats),axis=1),  columns=[\"lon\", \"lat\"]).to_csv(\"reindeers.csv\", index=False)"
   ]
  },
  {
   "cell_type": "code",
   "execution_count": 4,
   "metadata": {},
   "outputs": [
    {
     "data": {
      "text/html": [
       "<div>\n",
       "<style scoped>\n",
       "    .dataframe tbody tr th:only-of-type {\n",
       "        vertical-align: middle;\n",
       "    }\n",
       "\n",
       "    .dataframe tbody tr th {\n",
       "        vertical-align: top;\n",
       "    }\n",
       "\n",
       "    .dataframe thead th {\n",
       "        text-align: right;\n",
       "    }\n",
       "</style>\n",
       "<table border=\"1\" class=\"dataframe\">\n",
       "  <thead>\n",
       "    <tr style=\"text-align: right;\">\n",
       "      <th></th>\n",
       "      <th>lon</th>\n",
       "      <th>lat</th>\n",
       "    </tr>\n",
       "  </thead>\n",
       "  <tbody>\n",
       "    <tr>\n",
       "      <th>0</th>\n",
       "      <td>8.012972</td>\n",
       "      <td>60.926133</td>\n",
       "    </tr>\n",
       "    <tr>\n",
       "      <th>1</th>\n",
       "      <td>8.371339</td>\n",
       "      <td>60.827343</td>\n",
       "    </tr>\n",
       "    <tr>\n",
       "      <th>2</th>\n",
       "      <td>8.417918</td>\n",
       "      <td>60.756107</td>\n",
       "    </tr>\n",
       "    <tr>\n",
       "      <th>3</th>\n",
       "      <td>7.563795</td>\n",
       "      <td>61.138999</td>\n",
       "    </tr>\n",
       "    <tr>\n",
       "      <th>4</th>\n",
       "      <td>8.006617</td>\n",
       "      <td>61.472739</td>\n",
       "    </tr>\n",
       "    <tr>\n",
       "      <th>5</th>\n",
       "      <td>8.359575</td>\n",
       "      <td>61.562536</td>\n",
       "    </tr>\n",
       "    <tr>\n",
       "      <th>6</th>\n",
       "      <td>7.911859</td>\n",
       "      <td>61.489985</td>\n",
       "    </tr>\n",
       "    <tr>\n",
       "      <th>7</th>\n",
       "      <td>7.769689</td>\n",
       "      <td>61.130935</td>\n",
       "    </tr>\n",
       "    <tr>\n",
       "      <th>8</th>\n",
       "      <td>7.614290</td>\n",
       "      <td>60.637645</td>\n",
       "    </tr>\n",
       "    <tr>\n",
       "      <th>9</th>\n",
       "      <td>7.888996</td>\n",
       "      <td>61.143362</td>\n",
       "    </tr>\n",
       "  </tbody>\n",
       "</table>\n",
       "</div>"
      ],
      "text/plain": [
       "        lon        lat\n",
       "0  8.012972  60.926133\n",
       "1  8.371339  60.827343\n",
       "2  8.417918  60.756107\n",
       "3  7.563795  61.138999\n",
       "4  8.006617  61.472739\n",
       "5  8.359575  61.562536\n",
       "6  7.911859  61.489985\n",
       "7  7.769689  61.130935\n",
       "8  7.614290  60.637645\n",
       "9  7.888996  61.143362"
      ]
     },
     "execution_count": 4,
     "metadata": {},
     "output_type": "execute_result"
    }
   ],
   "source": [
    "# Read reindeer positions\n",
    "reindeers = pd.read_csv(\"reindeers.csv\")\n",
    "reindeers"
   ]
  },
  {
   "cell_type": "code",
   "execution_count": 5,
   "metadata": {},
   "outputs": [],
   "source": [
    "lon, lat = 7.48, 60.58\n",
    "zoom_start = 6\n",
    "m = ipyl.Map(\n",
    "#    layers=(basemap_to_tiles(basemaps.OpenTopoMap), ),\n",
    "    center=(lat, lon)\n",
    ")\n",
    "zoom_slider = IntSlider(description='Zoom', min=3, max=17, value=zoom_start)\n",
    "jslink((zoom_slider, 'value'), (m, 'zoom'))"
   ]
  },
  {
   "cell_type": "code",
   "execution_count": 6,
   "metadata": {},
   "outputs": [],
   "source": [
    "with open('/home/deeplearning/detect_cwd/nordfjella.json') as f:\n",
    "    geo_json_data = json.load(f)\n",
    "layer_allzone = ipyl.GeoJSON(data=geo_json_data)\n",
    "m.add_layer(layer_allzone)"
   ]
  },
  {
   "cell_type": "code",
   "execution_count": 7,
   "metadata": {},
   "outputs": [],
   "source": [
    "with open('/home/deeplearning/detect_cwd/zone_1.json') as f:\n",
    "    zone1_data = json.load(f)"
   ]
  },
  {
   "cell_type": "code",
   "execution_count": 8,
   "metadata": {},
   "outputs": [],
   "source": [
    "with open('/home/deeplearning/detect_cwd/zone_2.json') as f:\n",
    "    zone2_data = json.load(f)"
   ]
  },
  {
   "cell_type": "code",
   "execution_count": 9,
   "metadata": {},
   "outputs": [],
   "source": [
    "layer_zone1 = ipyl.GeoJSON(data=zone1_data)\n",
    "m.add_layer(layer_zone1)\n",
    "layer_zone2 = ipyl.GeoJSON(data=zone2_data)\n",
    "m.add_layer(layer_zone2)"
   ]
  },
  {
   "cell_type": "code",
   "execution_count": 10,
   "metadata": {},
   "outputs": [],
   "source": [
    "polygon = ipyl.Polygon(\n",
    "    locations=[(60.68753821944088,7.752502404083099), (60.75302523120072,7.809503970433292), \n",
    "               (60.80428536387097,7.559768404156764), (60.73925825494969,7.509379087922763)],\n",
    "    color=\"red\",\n",
    "    fill_color=\"red\"\n",
    ")\n",
    "\n",
    "m.add_layer(polygon);\n"
   ]
  },
  {
   "cell_type": "code",
   "execution_count": 18,
   "metadata": {},
   "outputs": [
    {
     "name": "stdout",
     "output_type": "stream",
     "text": [
      "INSIDE: Raise alarm\n",
      "INSIDE: Raise alarm\n",
      "INSIDE: Raise alarm\n",
      "OUTSIDE\n",
      "OUTSIDE\n",
      "OUTSIDE\n",
      "OUTSIDE\n",
      "OUTSIDE\n",
      "OUTSIDE\n",
      "OUTSIDE\n"
     ]
    }
   ],
   "source": [
    "# Black if healthy and red if CWD\n",
    "markers = ()\n",
    "ninside=0\n",
    "for lon,lat in zip(reindeers['lon'],reindeers['lat']):\n",
    "    point = Point(lon,lat)\n",
    "    outside=True\n",
    "    for s in zone1_data['features']:\n",
    "        polygon = shape(s['geometry'])\n",
    "        if point.within(polygon):\n",
    "            print(\"INSIDE: Raise alarm\")\n",
    "            outside=False\n",
    "            ninside = ninside+1\n",
    "            \n",
    "    if (outside):\n",
    "        print(\"OUTSIDE\")  \n",
    "        markers= markers + (ipyl.Marker(location=(lat,lon)),)\n",
    "\n",
    "if ninside>0:\n",
    "    alarm = HTML()\n",
    "    alarm.value = \"ALARM: \" + str(ninside) + \" reindeers in the RED ZONE\"\n",
    "\n",
    "    # Popup with a given location on the map:\n",
    "    popup = ipyl.Popup(\n",
    "        location=(60.77, 7.65),\n",
    "        child=alarm,\n",
    "        close_button=False,\n",
    "        auto_close=False,\n",
    "        close_on_escape_key=False\n",
    "    )\n",
    "    m.add_layer(popup)\n",
    "    marker.on('mouseover', function(e) {\n",
    "  //open popup;\n",
    "  var popup = L.popup()\n",
    "   .setLatLng(e.latlng) \n",
    "   .setContent('Popup')\n",
    "   .openOn(map);\n",
    "});\n",
    "marker_cluster = ipyl.MarkerCluster(\n",
    "        markers=markers\n",
    ")            \n",
    "m.add_layer(marker_cluster)"
   ]
  },
  {
   "cell_type": "markdown",
   "metadata": {},
   "source": [
    "# Add a Marker if you see a Reindeer"
   ]
  },
  {
   "cell_type": "code",
   "execution_count": 16,
   "metadata": {},
   "outputs": [
    {
     "data": {
      "application/vnd.jupyter.widget-view+json": {
       "model_id": "94d20cf7734445ee93f69fb6ef3818a5",
       "version_major": 2,
       "version_minor": 0
      },
      "text/plain": [
       "Map(basemap={'url': 'https://{s}.tile.openstreetmap.org/{z}/{x}/{y}.png', 'max_zoom': 19, 'attribution': 'Map …"
      ]
     },
     "metadata": {},
     "output_type": "display_data"
    }
   ],
   "source": [
    "m"
   ]
  },
  {
   "cell_type": "code",
   "execution_count": 17,
   "metadata": {},
   "outputs": [
    {
     "data": {
      "application/vnd.jupyter.widget-view+json": {
       "model_id": "f15ba62642974061824b3465cb50252a",
       "version_major": 2,
       "version_minor": 0
      },
      "text/plain": [
       "IntSlider(value=6, description='Zoom', max=17, min=3)"
      ]
     },
     "metadata": {},
     "output_type": "display_data"
    }
   ],
   "source": [
    "zoom_slider"
   ]
  },
  {
   "cell_type": "code",
   "execution_count": null,
   "metadata": {},
   "outputs": [],
   "source": [
    "#Add a marker when you see a reindeer \n",
    "dc = ipyl.DrawControl(circle={'shapeOptions': {'color': 'magenta'}}, circleMarker={}, polyline={}, polygon={})\n",
    "\n",
    "def handle_draw(self, action, geo_json):\n",
    "    print(action)\n",
    "    print(geo_json)\n",
    "\n",
    "dc.on_draw(handle_draw)\n",
    "m.add_control(dc)"
   ]
  },
  {
   "cell_type": "code",
   "execution_count": null,
   "metadata": {},
   "outputs": [],
   "source": []
  },
  {
   "cell_type": "code",
   "execution_count": null,
   "metadata": {},
   "outputs": [],
   "source": []
  }
 ],
 "metadata": {
  "kernelspec": {
   "display_name": "Python 3",
   "language": "python",
   "name": "python3"
  },
  "language_info": {
   "codemirror_mode": {
    "name": "ipython",
    "version": 3
   },
   "file_extension": ".py",
   "mimetype": "text/x-python",
   "name": "python",
   "nbconvert_exporter": "python",
   "pygments_lexer": "ipython3",
   "version": "3.6.8"
  }
 },
 "nbformat": 4,
 "nbformat_minor": 2
}
